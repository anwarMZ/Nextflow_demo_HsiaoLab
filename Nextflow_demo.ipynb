{
 "cells": [
  {
   "cell_type": "markdown",
   "id": "d18dfbcc-0e0c-4e8c-8a8b-e98111f55b31",
   "metadata": {},
   "source": [
    "# Nextflow Demo, Hsiao Lab (Sequence Analysis Workshop)\n",
    "Author: Zohaib Anwar <br />\n",
    "Date: April 29, 2021"
   ]
  },
  {
   "cell_type": "markdown",
   "id": "fd731c33-8bde-4722-8a9e-0c134a054593",
   "metadata": {},
   "source": [
    "## Setup\n",
    "\n",
    "Setup can be found here on this link [Link to Nextflow -](https://www.nextflow.io/index.html) <br />\n",
    "Only one prerequisite <br />\n",
    "* Java (version 8 or higher)\n"
   ]
  },
  {
   "cell_type": "code",
   "execution_count": 1,
   "id": "3e445cf5-ed90-4f35-b6ba-a6ff52c511f8",
   "metadata": {},
   "outputs": [
    {
     "name": "stdout",
     "output_type": "stream",
     "text": [
      "openjdk version \"11.0.9.1\" 2020-11-04 LTS\n",
      "OpenJDK Runtime Environment Zulu11.43+55-CA (build 11.0.9.1+1-LTS)\n",
      "OpenJDK 64-Bit Server VM Zulu11.43+55-CA (build 11.0.9.1+1-LTS, mixed mode)\n"
     ]
    }
   ],
   "source": [
    "# Check Java version on your system\n",
    "java -version"
   ]
  },
  {
   "cell_type": "markdown",
   "id": "4f9acfca-b6bc-48f7-9c7c-b135f70d9f16",
   "metadata": {},
   "source": [
    "**If Java version in your system is less than 8, please use this [link](https://java.com/en/download/help/download_options.html) to install newer version.** "
   ]
  },
  {
   "cell_type": "code",
   "execution_count": 2,
   "id": "d42250fb-6de9-4739-9936-5085e89e1e1f",
   "metadata": {},
   "outputs": [],
   "source": [
    "# Installation\n",
    "# curl -s https://get.nextflow.io | bash"
   ]
  },
  {
   "cell_type": "code",
   "execution_count": 2,
   "id": "c5a1f83c-46b8-4e68-bc00-e9377e9681c5",
   "metadata": {},
   "outputs": [],
   "source": [
    "# Lets check Nextflow version\n",
    "nextflow -v"
   ]
  },
  {
   "cell_type": "markdown",
   "id": "973f8349-b7e2-4a01-af65-722b21b29f73",
   "metadata": {},
   "source": [
    "Lets try with Hello World of Nextflow to start with. "
   ]
  },
  {
   "cell_type": "code",
   "execution_count": 3,
   "id": "c99c8ae3-d273-445c-95f8-6bbb8bb316b5",
   "metadata": {},
   "outputs": [
    {
     "name": "stdout",
     "output_type": "stream",
     "text": [
      "N E X T F L O W  ~  version 20.10.0\n",
      "Launching `nextflow-io/hello` [dreamy_curie] - revision: e6d9427e5b [master]\n",
      "[-        ] process > sayHello -\u001b[K\n",
      "\u001b[2A\n",
      "executor >  local (4)\u001b[K\n",
      "[d6/0f0f50] process > sayHello (2) [100%] 4 of 4 ✔\u001b[K\n",
      "Hola world!\u001b[K\n",
      "\u001b[K\n",
      "Hello world!\u001b[K\n",
      "\u001b[K\n",
      "Bonjour world!\u001b[K\n",
      "\u001b[K\n",
      "Ciao world!\u001b[K\n",
      "\u001b[K\n",
      "\u001b[11A\n",
      "executor >  local (4)\u001b[K\n",
      "[d6/0f0f50] process > sayHello (2) [100%] 4 of 4 ✔\u001b[K\n",
      "Hola world!\u001b[K\n",
      "\u001b[K\n",
      "Hello world!\u001b[K\n",
      "\u001b[K\n",
      "Bonjour world!\u001b[K\n",
      "\u001b[K\n",
      "Ciao world!\u001b[K\n",
      "\u001b[K\n",
      "\n"
     ]
    },
    {
     "ename": "",
     "evalue": "1",
     "output_type": "error",
     "traceback": []
    }
   ],
   "source": [
    "nextflow run hello"
   ]
  },
  {
   "cell_type": "markdown",
   "id": "6175f5dc-9beb-4bc2-8980-83c81842c6d6",
   "metadata": {},
   "source": [
    "When a _nextflow_ file isnt available in the directory,Nextflow looks at [nextflow.io](https://github.com/nextflow-io/) for possible workflow"
   ]
  },
  {
   "cell_type": "markdown",
   "id": "b02be277-1ce6-4a69-81fa-15ce1dd66d61",
   "metadata": {},
   "source": [
    "# Introduction\n",
    "\n",
    "## Basic components\n",
    "\n",
    "* **Processes**\n",
    "* **Channels**\n",
    "\n",
    "In practice a Nextflow pipeline script is made by joining together different processes. Each process can be written in any scripting language that can be executed by the Linux platform (Bash, Perl, Ruby, Python, etc.).\n",
    "\n",
    "Processes are executed independently and are isolated from each other, i.e. they do not share a common (writable) state. The only way they can communicate is via asynchronous FIFO queues, called channels in Nextflow.\n",
    "\n",
    "Any process can define one or more channels as input and output. The interaction between these processes, and ultimately the pipeline execution flow itself, is implicitly defined by these input and output declarations.\n",
    "\n",
    "## Processes\n",
    "\n",
    "A process may contain five definition blocks, respectively: directives, inputs, outputs, when clause and finally the process script. The syntax is defined as follows:\n",
    "\n",
    "```Nextflow\n",
    "\n",
    "process < name > {\n",
    "\n",
    "   [ directives ]\n",
    "\n",
    "   input:\n",
    "    < process inputs >\n",
    "\n",
    "   output:\n",
    "    < process outputs >\n",
    "\n",
    "   when:\n",
    "    < condition >\n",
    "\n",
    "   [script|shell|exec]:\n",
    "   < user script to be executed >\n",
    "\n",
    "}\n",
    "\n",
    "```\n",
    "\n",
    "## Channels\n",
    "\n",
    "Nextflow is based on the Dataflow programming model in which processes communicate through channels.\n",
    "\n",
    "A channel has two major properties:\n",
    "\n",
    "* Sending a message is an asynchronous operation which completes immediately, without having to wait for the receiving process.\n",
    "* Receiving data is a blocking operation which stops the receiving process until the message has arrived.\n",
    "\n",
    "### Channel factory\n",
    "\n",
    "Channels may be created implicitly by the process output(s) declaration or explicitly using the following channel factory methods.\n",
    "\n",
    "The available factory methods are:\n",
    "\n",
    "* create\n",
    "* empty\n",
    "* from\n",
    "* fromPath\n",
    "* fromFilePairs\n",
    "* fromSRA\n",
    "* value\n",
    "* watchPath\n",
    "\n",
    "\n",
    "## Scripting language\n",
    "\n",
    "Nextflow is designed to have a minimal learning curve, without having to pick up a new programming language. In most cases, users can utilise their current skills to develop Nextflow workflows. However, it also provides a powerful scripting DSL.\n",
    "\n",
    "Nextflow scripting is an extension of the Groovy programming language, which in turn is a super-set of the Java programming language. Groovy can be considered as Python for Java in that is simplifies the writing of code and is more approachable."
   ]
  },
  {
   "cell_type": "markdown",
   "id": "d224e6fe-370a-47d5-9e74-3923650c2537",
   "metadata": {},
   "source": [
    "## Working Demo\n",
    "\n",
    "During this tutorial we will implement a proof of concept of a RNA-Seq pipeline which:\n",
    "\n",
    "* Indexes a trascriptome file.\n",
    "* Performs quality controls\n",
    "* Performs quantification.\n",
    "* Create a MultiqQC report."
   ]
  },
  {
   "cell_type": "code",
   "execution_count": 1,
   "id": "21cb0d6a-08b4-485f-b62e-261d646c1d23",
   "metadata": {},
   "outputs": [
    {
     "name": "stdout",
     "output_type": "stream",
     "text": [
      "N E X T F L O W  ~  version 20.10.0\n",
      "Launching `1.indexing.nf` [hungry_engelbart] - revision: 52b8519ad3\n",
      "R N A S E Q - N F   P I P E L I N E    \n",
      "===================================\n",
      "transcriptome: /Users/au572806/GitHub/Nextflow_demo_HsiaoLab/data/transcriptome.fa\n",
      "reads        : /Users/au572806/GitHub/Nextflow_demo_HsiaoLab/data/*_{1,2}.fq\n",
      "outdir       : /Users/au572806/GitHub/Nextflow_demo_HsiaoLab/results\n",
      "\n",
      "[-        ] process > index -\u001b[K\n",
      "\u001b[2A\n",
      "executor >  local (1)\u001b[K\n",
      "[ca/4782d7] process > index (indexing_/Users/au57... [  0%] 0 of 1\u001b[K\n",
      "\u001b[3A\n",
      "executor >  local (1)\u001b[K\n",
      "[ca/4782d7] process > index (indexing_/Users/au57... [100%] 1 of 1 ✔\u001b[K\n",
      "\n"
     ]
    },
    {
     "ename": "",
     "evalue": "1",
     "output_type": "error",
     "traceback": []
    }
   ],
   "source": [
    "nextflow run 1.indexing.nf\n"
   ]
  },
  {
   "cell_type": "code",
   "execution_count": 7,
   "id": "016aa22f-e048-44a2-b29f-3dee26e86fad",
   "metadata": {},
   "outputs": [
    {
     "name": "stdout",
     "output_type": "stream",
     "text": [
      "nextflow run 2.fastqc.nf\n",
      "N E X T F L O W  ~  version 20.10.0\n",
      "Launching `2.fastqc.nf` [voluminous_poincare] - revision: 59604aac74\n",
      "R N A S E Q - N F   P I P E L I N E    \n",
      "===================================\n",
      "transcriptome: /Users/au572806/GitHub/Nextflow_demo_HsiaoLab/data/transcriptome.fa\n",
      "reads        : /Users/au572806/GitHub/Nextflow_demo_HsiaoLab/data/gut_{1,2}.fq\n",
      "outdir       : results\n",
      "\n",
      "executor >  local (2)\u001b[K\n",
      "[cc/42ca64] process > index                  [  0%] 0 of 1\u001b[K\n",
      "[24/810856] process > fastqc (FASTQC on gut) [  0%] 0 of 1\u001b[K\n",
      "\u001b[4A\n",
      "executor >  local (2)\u001b[K\n",
      "[cc/42ca64] process > index                  [  0%] 0 of 1\u001b[K\n",
      "[24/810856] process > fastqc (FASTQC on gut) [  0%] 0 of 1\u001b[K\n",
      "\u001b[4A\n",
      "executor >  local (2)\u001b[K\n",
      "[cc/42ca64] process > index                  [100%] 1 of 1 ✔\u001b[K\n",
      "[24/810856] process > fastqc (FASTQC on gut) [  0%] 0 of 1\u001b[K\n",
      "\u001b[4A\n",
      "executor >  local (2)\u001b[K\n",
      "[cc/42ca64] process > index                  [100%] 1 of 1 ✔\u001b[K\n",
      "[24/810856] process > fastqc (FASTQC on gut) [100%] 1 of 1 ✔\u001b[K\n",
      "\n"
     ]
    },
    {
     "ename": "",
     "evalue": "1",
     "output_type": "error",
     "traceback": []
    }
   ],
   "source": [
    "nextflow run 2.fastqc.nf"
   ]
  },
  {
   "cell_type": "code",
   "execution_count": null,
   "id": "77f32efd-f3ac-458b-aad7-3021437212af",
   "metadata": {},
   "outputs": [],
   "source": []
  },
  {
   "cell_type": "code",
   "execution_count": null,
   "id": "1c990c55-607a-44df-bc3c-77e3948b4219",
   "metadata": {},
   "outputs": [],
   "source": []
  },
  {
   "cell_type": "code",
   "execution_count": null,
   "id": "7cb96814-bb65-48a6-b722-5aee34aa317e",
   "metadata": {},
   "outputs": [],
   "source": []
  },
  {
   "cell_type": "code",
   "execution_count": null,
   "id": "ccbccc4e-c729-47c1-9b85-782dcef5f9c0",
   "metadata": {},
   "outputs": [],
   "source": []
  },
  {
   "cell_type": "code",
   "execution_count": null,
   "id": "62a98536-f1bc-4411-bdcd-37e422bcbd3c",
   "metadata": {},
   "outputs": [],
   "source": []
  },
  {
   "cell_type": "code",
   "execution_count": null,
   "id": "fd43f2e8-14e0-434c-b5df-24ae7e826971",
   "metadata": {},
   "outputs": [],
   "source": []
  }
 ],
 "metadata": {
  "kernelspec": {
   "display_name": "Bash",
   "language": "bash",
   "name": "bash"
  },
  "language_info": {
   "codemirror_mode": "shell",
   "file_extension": ".sh",
   "mimetype": "text/x-sh",
   "name": "bash"
  }
 },
 "nbformat": 4,
 "nbformat_minor": 5
}
