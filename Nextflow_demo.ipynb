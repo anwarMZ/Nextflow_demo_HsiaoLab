{
 "cells": [
  {
   "cell_type": "markdown",
   "id": "d18dfbcc-0e0c-4e8c-8a8b-e98111f55b31",
   "metadata": {},
   "source": [
    "# Nextflow Demo, Hsiao Lab (Sequence Analysis Workshop)\n",
    "Author: Zohaib Anwar <br />\n",
    "Date: April 29, 2021"
   ]
  },
  {
   "cell_type": "markdown",
   "id": "fd731c33-8bde-4722-8a9e-0c134a054593",
   "metadata": {},
   "source": [
    "## Setup\n",
    "\n",
    "Setup can be found here on this link [Link to Nextflow -](https://www.nextflow.io/index.html) <br />\n",
    "Only one prerequisite <br />\n",
    "* Java (version 8 or higher)\n"
   ]
  },
  {
   "cell_type": "code",
   "execution_count": 1,
   "id": "3e445cf5-ed90-4f35-b6ba-a6ff52c511f8",
   "metadata": {},
   "outputs": [
    {
     "name": "stdout",
     "output_type": "stream",
     "text": [
      "openjdk version \"11.0.9.1\" 2020-11-04 LTS\n",
      "OpenJDK Runtime Environment Zulu11.43+55-CA (build 11.0.9.1+1-LTS)\n",
      "OpenJDK 64-Bit Server VM Zulu11.43+55-CA (build 11.0.9.1+1-LTS, mixed mode)\n"
     ]
    }
   ],
   "source": [
    "# Check Java version on your system\n",
    "java -version"
   ]
  },
  {
   "cell_type": "markdown",
   "id": "4f9acfca-b6bc-48f7-9c7c-b135f70d9f16",
   "metadata": {},
   "source": [
    "**If Java version in your system is less than 8, please use this [link](https://java.com/en/download/help/download_options.html) to install newer version.** "
   ]
  },
  {
   "cell_type": "code",
   "execution_count": 2,
   "id": "d42250fb-6de9-4739-9936-5085e89e1e1f",
   "metadata": {},
   "outputs": [],
   "source": [
    "# Installation\n",
    "# curl -s https://get.nextflow.io | bash"
   ]
  },
  {
   "cell_type": "code",
   "execution_count": 3,
   "id": "c5a1f83c-46b8-4e68-bc00-e9377e9681c5",
   "metadata": {},
   "outputs": [
    {
     "name": "stdout",
     "output_type": "stream",
     "text": [
      "nextflow version 20.10.0.5430\n"
     ]
    }
   ],
   "source": [
    "# Lets check Nextflow version\n",
    "nextflow -v"
   ]
  },
  {
   "cell_type": "markdown",
   "id": "973f8349-b7e2-4a01-af65-722b21b29f73",
   "metadata": {},
   "source": [
    "Lets try with Hello World of Nextflow to start with. "
   ]
  },
  {
   "cell_type": "code",
   "execution_count": 4,
   "id": "c99c8ae3-d273-445c-95f8-6bbb8bb316b5",
   "metadata": {},
   "outputs": [
    {
     "name": "stdout",
     "output_type": "stream",
     "text": [
      "N E X T F L O W  ~  version 20.10.0\n",
      "Launching `nextflow-io/hello` [grave_shannon] - revision: e6d9427e5b [master]\n",
      "executor >  local (4)\u001b[K\n",
      "[a9/cf630d] process > sayHello (2) [  0%] 0 of 4\u001b[K\n",
      "\u001b[3A\n",
      "executor >  local (4)\u001b[K\n",
      "[a9/cf630d] process > sayHello (2) [100%] 4 of 4 ✔\u001b[K\n",
      "Hello world!\u001b[K\n",
      "\u001b[K\n",
      "Bonjour world!\u001b[K\n",
      "\u001b[K\n",
      "Hola world!\u001b[K\n",
      "\u001b[K\n",
      "Ciao world!\u001b[K\n",
      "\u001b[K\n",
      "\n"
     ]
    },
    {
     "ename": "",
     "evalue": "1",
     "output_type": "error",
     "traceback": []
    }
   ],
   "source": [
    "nextflow run hello"
   ]
  },
  {
   "cell_type": "markdown",
   "id": "6175f5dc-9beb-4bc2-8980-83c81842c6d6",
   "metadata": {},
   "source": [
    "When a _nextflow_ file isnt available in the directory,Nextflow looks at [nextflow.io](https://github.com/nextflow-io/) for possible workflow"
   ]
  },
  {
   "cell_type": "markdown",
   "id": "b02be277-1ce6-4a69-81fa-15ce1dd66d61",
   "metadata": {},
   "source": [
    "# Introduction\n",
    "\n",
    "## Basic components\n",
    "\n",
    "* **Processes**\n",
    "* **Channels**\n",
    "\n",
    "In practice a Nextflow pipeline script is made by joining together different processes. Each process can be written in any scripting language that can be executed by the Linux platform (Bash, Perl, Ruby, Python, etc.).\n",
    "\n",
    "Processes are executed independently and are isolated from each other, i.e. they do not share a common (writable) state. The only way they can communicate is via asynchronous FIFO queues, called channels in Nextflow.\n",
    "\n",
    "Any process can define one or more channels as input and output. The interaction between these processes, and ultimately the pipeline execution flow itself, is implicitly defined by these input and output declarations.\n",
    "\n",
    "## Processes\n",
    "\n",
    "A process may contain five definition blocks, respectively: directives, inputs, outputs, when clause and finally the process script. The syntax is defined as follows:\n",
    "\n",
    "```Nextflow\n",
    "\n",
    "process < name > {\n",
    "\n",
    "   [ directives ]\n",
    "\n",
    "   input:\n",
    "    < process inputs >\n",
    "\n",
    "   output:\n",
    "    < process outputs >\n",
    "\n",
    "   when:\n",
    "    < condition >\n",
    "\n",
    "   [script|shell|exec]:\n",
    "   < user script to be executed >\n",
    "\n",
    "}\n",
    "\n",
    "```\n",
    "\n",
    "## Channels\n",
    "\n",
    "Nextflow is based on the Dataflow programming model in which processes communicate through channels.\n",
    "\n",
    "A channel has two major properties:\n",
    "\n",
    "* Sending a message is an asynchronous operation which completes immediately, without having to wait for the receiving process.\n",
    "* Receiving data is a blocking operation which stops the receiving process until the message has arrived.\n",
    "\n",
    "### Channel factory\n",
    "\n",
    "Channels may be created implicitly by the process output(s) declaration or explicitly using the following channel factory methods.\n",
    "\n",
    "The available factory methods are:\n",
    "\n",
    "* create\n",
    "* empty\n",
    "* from\n",
    "* fromPath\n",
    "* fromFilePairs\n",
    "* fromSRA\n",
    "* value\n",
    "* watchPath\n",
    "\n",
    "\n",
    "## Scripting language\n",
    "\n",
    "Nextflow is designed to have a minimal learning curve, without having to pick up a new programming language. In most cases, users can utilise their current skills to develop Nextflow workflows. However, it also provides a powerful scripting DSL.\n",
    "\n",
    "Nextflow scripting is an extension of the Groovy programming language, which in turn is a super-set of the Java programming language. Groovy can be considered as Python for Java in that is simplifies the writing of code and is more approachable."
   ]
  },
  {
   "cell_type": "markdown",
   "id": "d224e6fe-370a-47d5-9e74-3923650c2537",
   "metadata": {},
   "source": [
    "## Working Demo\n",
    "\n",
    "During this tutorial we will implement a proof of concept of a RNA-Seq pipeline which:\n",
    "\n",
    "* Indexes a trascriptome file.\n",
    "* Performs quality controls\n",
    "* Performs quantification.\n",
    "* Create a MultiqQC report."
   ]
  },
  {
   "cell_type": "markdown",
   "id": "50f93da4-2323-4726-b933-168dbad96216",
   "metadata": {},
   "source": [
    "Lets start with indexing transcriptome file in ```$baseDir/data```"
   ]
  },
  {
   "cell_type": "code",
   "execution_count": 5,
   "id": "c83a93f0-6611-4eb3-a4b1-8d66c17db870",
   "metadata": {},
   "outputs": [
    {
     "name": "stdout",
     "output_type": "stream",
     "text": [
      "cat 1.indexing.nf\n",
      "/* \n",
      " * pipeline input parameters \n",
      " */\n",
      "params.reads = \"$baseDir/data/*_{1,2}.fq\"\n",
      "params.transcriptome = \"$baseDir/data/transcriptome.fa\"\n",
      "params.multiqc = \"$baseDir/multiqc\"\n",
      "params.outdir = \"$baseDir/results\"\n",
      "\n",
      "println \"\"\"\\\n",
      "         R N A S E Q - N F   P I P E L I N E    \n",
      "         ===================================\n",
      "         transcriptome: ${params.transcriptome}\n",
      "         reads        : ${params.reads}\n",
      "         outdir       : ${params.outdir}\n",
      "         \"\"\"\n",
      "         .stripIndent()\n",
      "\n",
      "/* \n",
      " * create a transcriptome file object given then transcriptome string parameter\n",
      " */\n",
      "transcriptome_file = file(params.transcriptome)\n",
      " \n",
      "/* \n",
      " * define the `index` process that create a binary index \n",
      " * given the transcriptome file\n",
      " */\n",
      " \n",
      "process index {\n",
      "\n",
      "    tag {\"indexing_${params.transcriptome}\"}\n",
      "    \n",
      "    input:\n",
      "    file transcriptome from transcriptome_file\n",
      "     \n",
      "    output:\n",
      "    file 'index' into index_ch\n",
      "\n",
      "    script:       \n",
      "    \"\"\"\n",
      "    salmon index --threads $task.cpus -t $transcriptome -i index\n",
      "    \"\"\"\n",
      "}\n",
      " "
     ]
    },
    {
     "ename": "",
     "evalue": "1",
     "output_type": "error",
     "traceback": []
    }
   ],
   "source": [
    "cat 1.indexing.nf"
   ]
  },
  {
   "cell_type": "code",
   "execution_count": 6,
   "id": "9e10a700-0af9-424b-8e44-0c548cd9c574",
   "metadata": {},
   "outputs": [
    {
     "name": "stdout",
     "output_type": "stream",
     "text": [
      "nextflow run 1.indexing.nf\n",
      "N E X T F L O W  ~  version 20.10.0\n",
      "Launching `1.indexing.nf` [compassionate_wing] - revision: 24486b812a\n",
      "R N A S E Q - N F   P I P E L I N E    \n",
      "===================================\n",
      "transcriptome: /Users/au572806/GitHub/Nextflow_demo_HsiaoLab/data/transcriptome.fa\n",
      "reads        : /Users/au572806/GitHub/Nextflow_demo_HsiaoLab/data/*_{1,2}.fq\n",
      "outdir       : /Users/au572806/GitHub/Nextflow_demo_HsiaoLab/results\n",
      "\n",
      "executor >  local (1)\u001b[K\n",
      "[c5/ed1d79] process > index (indexing_/Users/au57... [  0%] 0 of 1\u001b[K\n",
      "\u001b[3A\n",
      "executor >  local (1)\u001b[K\n",
      "[c5/ed1d79] process > index (indexing_/Users/au57... [  0%] 0 of 1\u001b[K\n",
      "\u001b[3A\n",
      "executor >  local (1)\u001b[K\n",
      "[c5/ed1d79] process > index (indexing_/Users/au57... [100%] 1 of 1 ✔\u001b[K\n",
      "\u001b[3A\n",
      "executor >  local (1)\u001b[K\n",
      "[c5/ed1d79] process > index (indexing_/Users/au57... [100%] 1 of 1 ✔\u001b[K\n",
      "\n"
     ]
    },
    {
     "ename": "",
     "evalue": "1",
     "output_type": "error",
     "traceback": []
    }
   ],
   "source": [
    "nextflow run 1.indexing.nf"
   ]
  },
  {
   "cell_type": "markdown",
   "id": "7396c081-3736-45d5-80ed-68458c77562a",
   "metadata": {},
   "source": [
    "Next step is to add quality visualization of reads using ```fastqc``` on the three different samples (gut, liver and lung) with paired-end reads in ```$data/*_{1,2}.fq```"
   ]
  },
  {
   "cell_type": "code",
   "execution_count": 7,
   "id": "13f6086f-2f5c-4a63-9598-25510373ad26",
   "metadata": {},
   "outputs": [
    {
     "name": "stdout",
     "output_type": "stream",
     "text": [
      "cat 2.fastqc.nf\n",
      "/* \n",
      " * pipeline input parameters \n",
      " */\n",
      "params.reads = \"$baseDir/data/*_{1,2}.fq\"\n",
      "params.transcriptome = \"$baseDir/data/transcriptome.fa\"\n",
      "params.multiqc = \"$baseDir/multiqc\"\n",
      "params.outdir = \"results\"\n",
      "\n",
      "println \"\"\"\\\n",
      "         R N A S E Q - N F   P I P E L I N E    \n",
      "         ===================================\n",
      "         transcriptome: ${params.transcriptome}\n",
      "         reads        : ${params.reads}\n",
      "         outdir       : ${params.outdir}\n",
      "         \"\"\"\n",
      "         .stripIndent()\n",
      "\n",
      "\n",
      "Channel \n",
      "    .fromFilePairs( params.reads )\n",
      "    .ifEmpty { error \"Cannot find any reads matching: ${params.reads}\"  }\n",
      "    .set { read_pairs_ch } \n",
      "    \n",
      "\n",
      "process fastqc {\n",
      "    tag \"FASTQC on $sample_id\"\n",
      "    publishDir \"${params.outdir}/${task.process}\", pattern: \"fastqc_${sample_id}_logs/*.{zip,html}\", mode: 'copy'\n",
      "\n",
      "    input:\n",
      "    set sample_id, file(reads) from read_pairs_ch\n",
      "\n",
      "    output:\n",
      "    file(\"fastqc_${sample_id}_logs\") into fastqc_ch\n",
      "    path(\"fastqc_${sample_id}_logs/*.{zip,html}\")\n",
      "\n",
      "    script:\n",
      "    \"\"\"\n",
      "    mkdir fastqc_${sample_id}_logs\n",
      "    fastqc -o fastqc_${sample_id}_logs -f fastq -q ${reads}\n",
      "    \"\"\"  \n",
      "}  \n",
      " \n",
      "\n"
     ]
    },
    {
     "ename": "",
     "evalue": "1",
     "output_type": "error",
     "traceback": []
    }
   ],
   "source": [
    "cat 2.fastqc.nf"
   ]
  },
  {
   "cell_type": "code",
   "execution_count": 8,
   "id": "00599ee1-895a-45e1-81fc-b662cf1ddccf",
   "metadata": {},
   "outputs": [
    {
     "name": "stdout",
     "output_type": "stream",
     "text": [
      "nextflow run 2.fastqc.nf\n",
      "N E X T F L O W  ~  version 20.10.0\n",
      "Launching `2.fastqc.nf` [adoring_mcnulty] - revision: ed683cad0d\n",
      "R N A S E Q - N F   P I P E L I N E    \n",
      "===================================\n",
      "transcriptome: /Users/au572806/GitHub/Nextflow_demo_HsiaoLab/data/transcriptome.fa\n",
      "reads        : /Users/au572806/GitHub/Nextflow_demo_HsiaoLab/data/*_{1,2}.fq\n",
      "outdir       : results\n",
      "\n",
      "executor >  local (3)\u001b[K\n",
      "[30/dd73fc] process > fastqc (FASTQC on liver) [  0%] 0 of 3\u001b[K\n",
      "\u001b[3A\n",
      "executor >  local (3)\u001b[K\n",
      "[30/dd73fc] process > fastqc (FASTQC on liver) [  0%] 0 of 3\u001b[K\n",
      "\u001b[3A\n",
      "executor >  local (3)\u001b[K\n",
      "[30/dd73fc] process > fastqc (FASTQC on liver) [ 33%] 1 of 3\u001b[K\n",
      "\u001b[3A\n",
      "executor >  local (3)\u001b[K\n",
      "[6e/4c81a0] process > fastqc (FASTQC on lung)  [100%] 3 of 3 ✔\u001b[K\n",
      "\n"
     ]
    },
    {
     "ename": "",
     "evalue": "1",
     "output_type": "error",
     "traceback": []
    }
   ],
   "source": [
    "nextflow run 2.fastqc.nf"
   ]
  },
  {
   "cell_type": "markdown",
   "id": "65718904-a852-41c0-8e56-be7ac761a89a",
   "metadata": {},
   "source": [
    "Now we will add read quantification using ```salmon quant``` on the same samples (gut, liver and lung) with paired-end reads in ```bash $data/*_{1,2}.fq ```"
   ]
  },
  {
   "cell_type": "code",
   "execution_count": 9,
   "id": "395afe8e-0b41-4df6-9776-17268d5994a4",
   "metadata": {},
   "outputs": [
    {
     "name": "stdout",
     "output_type": "stream",
     "text": [
      "cat 3.quantification.nf\n",
      "/* \n",
      " * pipeline input parameters \n",
      " */\n",
      "params.reads = \"$baseDir/data/*_{1,2}.fq\"\n",
      "params.transcriptome = \"$baseDir/data/transcriptome.fa\"\n",
      "params.multiqc = \"$baseDir/multiqc\"\n",
      "params.outdir = \"results\"\n",
      "\n",
      "println \"\"\"\\\n",
      "         R N A S E Q - N F   P I P E L I N E    \n",
      "         ===================================\n",
      "         transcriptome: ${params.transcriptome}\n",
      "         reads        : ${params.reads}\n",
      "         outdir       : ${params.outdir}\n",
      "         \"\"\"\n",
      "         .stripIndent()\n",
      "\n",
      "/* \n",
      " * create a transcriptome file object given then transcriptome string parameter\n",
      " */\n",
      "transcriptome_file = file(params.transcriptome)\n",
      " \n",
      "/* \n",
      " * define the `index` process that create a binary index \n",
      " * given the transcriptome file\n",
      " */\n",
      " \n",
      "process index {\n",
      "    \n",
      "    input:\n",
      "    file transcriptome from transcriptome_file\n",
      "     \n",
      "    output:\n",
      "    file 'index' into index_ch\n",
      "\n",
      "    script:       \n",
      "    \"\"\"\n",
      "    salmon index --threads $task.cpus -t $transcriptome -i index\n",
      "    \"\"\"\n",
      "}\n",
      "\n",
      "Channel \n",
      "    .fromFilePairs( params.reads )\n",
      "    .ifEmpty { error \"Cannot find any reads matching: ${params.reads}\"  }\n",
      "    .set { read_pairs_ch}\n",
      "    \n",
      "process quantification {\n",
      "\n",
      "    tag \"Quantification on $sample_id\"\n",
      "    publishDir \"${params.outdir}/${task.process}\", pattern: \"*.sf\", mode: 'copy'\n",
      "    \n",
      "    input:\n",
      "    file index from index_ch\n",
      "    set pair_id, file(reads) from read_pairs_ch\n",
      " \n",
      "    output:\n",
      "    file(pair_id) into quant_ch\n",
      " \n",
      "    script:\n",
      "    \"\"\"\n",
      "    salmon quant --threads $task.cpus --libType=U -i index -1 ${reads[0]} -2 ${reads[1]} -o $pair_id\n",
      "    \"\"\"\n",
      "}\n",
      "\n"
     ]
    },
    {
     "ename": "",
     "evalue": "1",
     "output_type": "error",
     "traceback": []
    }
   ],
   "source": [
    "cat 3.quantification.nf"
   ]
  },
  {
   "cell_type": "code",
   "execution_count": 10,
   "id": "35863613-f890-4a64-8561-39412c33dce8",
   "metadata": {},
   "outputs": [
    {
     "name": "stdout",
     "output_type": "stream",
     "text": [
      "nextflow run 3.quantification.nf\n",
      "N E X T F L O W  ~  version 20.10.0\n",
      "Launching `3.quantification.nf` [zen_joliot] - revision: 8cc4f29644\n",
      "R N A S E Q - N F   P I P E L I N E    \n",
      "===================================\n",
      "transcriptome: /Users/au572806/GitHub/Nextflow_demo_HsiaoLab/data/transcriptome.fa\n",
      "reads        : /Users/au572806/GitHub/Nextflow_demo_HsiaoLab/data/*_{1,2}.fq\n",
      "outdir       : results\n",
      "\n",
      "executor >  local (1)\u001b[K\n",
      "[13/92f07d] process > index          [  0%] 0 of 1\u001b[K\n",
      "[-        ] process > quantification -\u001b[K\n",
      "\u001b[4A\n",
      "executor >  local (1)\u001b[K\n",
      "[13/92f07d] process > index          [  0%] 0 of 1\u001b[K\n",
      "[-        ] process > quantification -\u001b[K\n",
      "\u001b[4A\n",
      "executor >  local (4)\u001b[K\n",
      "[13/92f07d] process > index                          [100%] 1 of 1 ✔\u001b[K\n",
      "[85/a4a780] process > quantification (Quantificat... [  0%] 0 of 3\u001b[K\n",
      "\u001b[4A\n",
      "executor >  local (4)\u001b[K\n",
      "[13/92f07d] process > index                          [100%] 1 of 1 ✔\u001b[K\n",
      "[85/a4a780] process > quantification (Quantificat... [100%] 3 of 3 ✔\u001b[K\n",
      "\n"
     ]
    },
    {
     "ename": "",
     "evalue": "1",
     "output_type": "error",
     "traceback": []
    }
   ],
   "source": [
    "nextflow run 3.quantification.nf"
   ]
  },
  {
   "cell_type": "markdown",
   "id": "da8a7048-f691-4f27-999f-7b2beb4f2d12",
   "metadata": {},
   "source": [
    "Finally, we will add a process to visualize quantification results using ```multiqc```"
   ]
  },
  {
   "cell_type": "code",
   "execution_count": 11,
   "id": "b8cdd938-4d45-4e7b-aedd-925984034934",
   "metadata": {},
   "outputs": [
    {
     "name": "stdout",
     "output_type": "stream",
     "text": [
      "cat 4.multiqc.nf\n",
      "/* \n",
      " * pipeline input parameters \n",
      " */\n",
      "params.reads = \"$baseDir/data/gut_{1,2}.fq\"\n",
      "params.transcriptome = \"$baseDir/data/transcriptome.fa\"\n",
      "params.multiqc = \"$baseDir/multiqc\"\n",
      "params.outdir = \"results\"\n",
      "\n",
      "println \"\"\"\\\n",
      "         R N A S E Q - N F   P I P E L I N E    \n",
      "         ===================================\n",
      "         transcriptome: ${params.transcriptome}\n",
      "         reads        : ${params.reads}\n",
      "         outdir       : ${params.outdir}\n",
      "         \"\"\"\n",
      "         .stripIndent()\n",
      "\n",
      "/* \n",
      " * create a transcriptome file object given then transcriptome string parameter\n",
      " */\n",
      "transcriptome_file = file(params.transcriptome)\n",
      " \n",
      "/* \n",
      " * define the `index` process that create a binary index \n",
      " * given the transcriptome file\n",
      " */\n",
      " \n",
      " \n",
      "process index {\n",
      "    \n",
      "    input:\n",
      "    file transcriptome from transcriptome_file\n",
      "     \n",
      "    output:\n",
      "    file 'index' into index_ch\n",
      "\n",
      "    script:       \n",
      "    \"\"\"\n",
      "    salmon index --threads $task.cpus -t $transcriptome -i index\n",
      "    \"\"\"\n",
      "}\n",
      "\n",
      "\n",
      "Channel \n",
      "    .fromFilePairs( params.reads )\n",
      "    .ifEmpty { error \"Cannot find any reads matching: ${params.reads}\"  }\n",
      "    .set { read_pairs_ch }\n",
      "\n",
      "\n",
      "process quantification {\n",
      "\n",
      "    tag \"Quantification on $sample_id\"\n",
      "    publishDir \"${params.outdir}/${task.process}\", pattern: \"*.sf\", mode: 'copy'\n",
      "    \n",
      "    input:\n",
      "    file index from index_ch\n",
      "    set pair_id, file(reads) from read_pairs_ch\n",
      " \n",
      "    output:\n",
      "    file(pair_id) into quant_ch\n",
      " \n",
      "    script:\n",
      "    \"\"\"\n",
      "    salmon quant --threads $task.cpus --libType=U -i index -1 ${reads[0]} -2 ${reads[1]} -o $pair_id\n",
      "    \"\"\"\n",
      "}\n",
      "\n",
      "\n",
      "process multiqc {\n",
      "\n",
      "    tag \"MultiQC\"\n",
      "    publishDir \"${params.outdir}/${task.process}\", mode: 'copy'\n",
      "    \n",
      "    input:\n",
      "    file('*') from quant_ch.mix(fastqc_ch).collect()\n",
      "    \n",
      "    output:\n",
      "    file('multiqc_report.html')  \n",
      "     \n",
      "    script:\n",
      "    \"\"\"\n",
      "    multiqc . \n",
      "    \"\"\"\n",
      "} \n"
     ]
    },
    {
     "ename": "",
     "evalue": "1",
     "output_type": "error",
     "traceback": []
    }
   ],
   "source": [
    "cat 4.multiqc.nf"
   ]
  },
  {
   "cell_type": "code",
   "execution_count": 13,
   "id": "115cbc4d-bb8b-4d62-96be-7163a9198c63",
   "metadata": {},
   "outputs": [
    {
     "name": "stdout",
     "output_type": "stream",
     "text": [
      "nextflow run 4.multiqc.nf\n",
      "N E X T F L O W  ~  version 20.10.0\n",
      "Launching `4.multiqc.nf` [admiring_banach] - revision: a3bcc4bd46\n",
      "R N A S E Q - N F   P I P E L I N E    \n",
      "===================================\n",
      "transcriptome: /Users/au572806/GitHub/Nextflow_demo_HsiaoLab/data/transcriptome.fa\n",
      "reads        : /Users/au572806/GitHub/Nextflow_demo_HsiaoLab/data/gut_{1,2}.fq\n",
      "outdir       : results\n",
      "\n",
      "[-        ] process > index          -\u001b[K\n",
      "[-        ] process > fastqc         -\u001b[K\n",
      "[-        ] process > quantification -\u001b[K\n",
      "\u001b[4A\n",
      "executor >  local (2)\u001b[K\n",
      "[72/c0df87] process > index                  [  0%] 0 of 1\u001b[K\n",
      "[80/5621ff] process > fastqc (FASTQC on gut) [  0%] 0 of 1\u001b[K\n",
      "[-        ] process > quantification         -\u001b[K\n",
      "[-        ] process > multiqc                -\u001b[K\n",
      "\u001b[6A\n",
      "executor >  local (3)\u001b[K\n",
      "[72/c0df87] process > index                          [100%] 1 of 1 ✔\u001b[K\n",
      "[80/5621ff] process > fastqc (FASTQC on gut)         [  0%] 0 of 1\u001b[K\n",
      "[3d/4625ae] process > quantification (Quantificat... [  0%] 0 of 1\u001b[K\n",
      "[-        ] process > multiqc                        -\u001b[K\n",
      "\u001b[6A\n",
      "executor >  local (3)\u001b[K\n",
      "[72/c0df87] process > index                          [100%] 1 of 1 ✔\u001b[K\n",
      "[80/5621ff] process > fastqc (FASTQC on gut)         [  0%] 0 of 1\u001b[K\n",
      "[3d/4625ae] process > quantification (Quantificat... [  0%] 0 of 1\u001b[K\n",
      "[-        ] process > multiqc                        -\u001b[K\n",
      "\u001b[6A\n",
      "executor >  local (3)\u001b[K\n",
      "[72/c0df87] process > index                          [100%] 1 of 1 ✔\u001b[K\n",
      "[80/5621ff] process > fastqc (FASTQC on gut)         [  0%] 0 of 1\u001b[K\n",
      "[3d/4625ae] process > quantification (Quantificat... [100%] 1 of 1 ✔\u001b[K\n",
      "[-        ] process > multiqc                        -\u001b[K\n",
      "\u001b[6A\n",
      "executor >  local (4)\u001b[K\n",
      "[72/c0df87] process > index                          [100%] 1 of 1 ✔\u001b[K\n",
      "[80/5621ff] process > fastqc (FASTQC on gut)         [100%] 1 of 1 ✔\u001b[K\n",
      "[3d/4625ae] process > quantification (Quantificat... [100%] 1 of 1 ✔\u001b[K\n",
      "[a7/b61852] process > multiqc (MultiQC)              [  0%] 0 of 1\u001b[K\n",
      "\u001b[6A\n",
      "executor >  local (4)\u001b[K\n",
      "[72/c0df87] process > index                          [100%] 1 of 1 ✔\u001b[K\n",
      "[80/5621ff] process > fastqc (FASTQC on gut)         [100%] 1 of 1 ✔\u001b[K\n",
      "[3d/4625ae] process > quantification (Quantificat... [100%] 1 of 1 ✔\u001b[K\n",
      "[a7/b61852] process > multiqc (MultiQC)              [100%] 1 of 1 ✔\u001b[K\n",
      "\n"
     ]
    },
    {
     "ename": "",
     "evalue": "1",
     "output_type": "error",
     "traceback": []
    }
   ],
   "source": [
    "nextflow run 4.multiqc.nf"
   ]
  },
  {
   "cell_type": "code",
   "execution_count": 14,
   "id": "1ffd29ec-e334-4352-9d08-837559a3e07e",
   "metadata": {},
   "outputs": [
    {
     "name": "stdout",
     "output_type": "stream",
     "text": [
      "cat main.nf\n",
      "/* \n",
      " * pipeline input parameters \n",
      " */\n",
      "params.reads = \"$baseDir/data/gut_{1,2}.fq\"\n",
      "params.transcriptome = \"$baseDir/data/transcriptome.fa\"\n",
      "params.multiqc = \"$baseDir/multiqc\"\n",
      "params.outdir = \"results\"\n",
      "\n",
      "println \"\"\"\\\n",
      "         R N A S E Q - N F   P I P E L I N E    \n",
      "         ===================================\n",
      "         transcriptome: ${params.transcriptome}\n",
      "         reads        : ${params.reads}\n",
      "         outdir       : ${params.outdir}\n",
      "         \"\"\"\n",
      "         .stripIndent()\n",
      "\n",
      "/* \n",
      " * create a transcriptome file object given then transcriptome string parameter\n",
      " */\n",
      "transcriptome_file = file(params.transcriptome)\n",
      " \n",
      "/* \n",
      " * define the `index` process that create a binary index \n",
      " * given the transcriptome file\n",
      " */\n",
      " \n",
      " \n",
      "process index {\n",
      "    \n",
      "    input:\n",
      "    file transcriptome from transcriptome_file\n",
      "     \n",
      "    output:\n",
      "    file 'index' into index_ch\n",
      "\n",
      "    script:       \n",
      "    \"\"\"\n",
      "    salmon index --threads $task.cpus -t $transcriptome -i index\n",
      "    \"\"\"\n",
      "}\n",
      "\n",
      "\n",
      "Channel \n",
      "    .fromFilePairs( params.reads )\n",
      "    .ifEmpty { error \"Cannot find any reads matching: ${params.reads}\"  }\n",
      "    .into { read_pairs_ch; read_pairs2_ch }\n",
      "    \n",
      "    \n",
      "process fastqc {\n",
      "    tag \"FASTQC on $sample_id\"\n",
      "\n",
      "    input:\n",
      "    set sample_id, file(reads) from read_pairs_ch\n",
      "\n",
      "    output:\n",
      "    file(\"fastqc_${sample_id}_logs\") into fastqc_ch\n",
      "\n",
      "\n",
      "    script:\n",
      "    \"\"\"\n",
      "    mkdir fastqc_${sample_id}_logs\n",
      "    fastqc -o fastqc_${sample_id}_logs -f fastq -q ${reads}\n",
      "    \"\"\"  \n",
      "}  \n",
      "\n",
      "\n",
      "process quantification {\n",
      "\n",
      "    tag \"Quantification on $sample_id\"\n",
      "    publishDir \"${params.outdir}/${task.process}\", pattern: \"*.sf\", mode: 'copy'\n",
      "    \n",
      "    input:\n",
      "    file index from index_ch\n",
      "    set pair_id, file(reads) from read_pairs2_ch\n",
      " \n",
      "    output:\n",
      "    file(pair_id) into quant_ch\n",
      " \n",
      "    script:\n",
      "    \"\"\"\n",
      "    salmon quant --threads $task.cpus --libType=U -i index -1 ${reads[0]} -2 ${reads[1]} -o $pair_id\n",
      "    \"\"\"\n",
      "}\n",
      "\n",
      "\n",
      "process multiqc {\n",
      "\n",
      "    tag \"MultiQC\"\n",
      "    publishDir \"${params.outdir}/${task.process}\", mode: 'copy'\n",
      "    \n",
      "    input:\n",
      "    file('*') from quant_ch.mix(fastqc_ch).collect()\n",
      "    \n",
      "    output:\n",
      "    file('multiqc_report.html')  \n",
      "     \n",
      "    script:\n",
      "    \"\"\"\n",
      "    multiqc . \n",
      "    \"\"\"\n",
      "} \n",
      "\n",
      "\n",
      "workflow.onComplete { \n",
      "\tprintln ( workflow.success ? \"\\nDone! Open the following report in your browser --> $params.outdir/multiqc/multiqc_report.html\\n\" : \"Oops .. something went wrong\" )\n",
      "}\n"
     ]
    },
    {
     "ename": "",
     "evalue": "1",
     "output_type": "error",
     "traceback": []
    }
   ],
   "source": [
    "cat main.nf"
   ]
  },
  {
   "cell_type": "code",
   "execution_count": 15,
   "id": "dae1ac91-3998-4285-a54c-66ef74c0d234",
   "metadata": {},
   "outputs": [
    {
     "name": "stdout",
     "output_type": "stream",
     "text": [
      "nextflow run main.nf\n",
      "N E X T F L O W  ~  version 20.10.0\n",
      "Launching `main.nf` [admiring_noether] - revision: 11f5c2c5d2\n",
      "R N A S E Q - N F   P I P E L I N E    \n",
      "===================================\n",
      "transcriptome: /Users/au572806/GitHub/Nextflow_demo_HsiaoLab/data/transcriptome.fa\n",
      "reads        : /Users/au572806/GitHub/Nextflow_demo_HsiaoLab/data/gut_{1,2}.fq\n",
      "outdir       : results\n",
      "\n",
      "[-        ] process > index          -\u001b[K\n",
      "[-        ] process > fastqc         -\u001b[K\n",
      "[-        ] process > quantification -\u001b[K\n",
      "[-        ] process > multiqc        -\u001b[K\n",
      "\u001b[5A\n",
      "executor >  local (2)\u001b[K\n",
      "[09/3eec23] process > index                  [  0%] 0 of 1\u001b[K\n",
      "[0e/728d7e] process > fastqc (FASTQC on gut) [  0%] 0 of 1\u001b[K\n",
      "[-        ] process > quantification         -\u001b[K\n",
      "[-        ] process > multiqc                -\u001b[K\n",
      "\u001b[6A\n",
      "executor >  local (3)\u001b[K\n",
      "[09/3eec23] process > index                          [100%] 1 of 1 ✔\u001b[K\n",
      "[0e/728d7e] process > fastqc (FASTQC on gut)         [  0%] 0 of 1\u001b[K\n",
      "[23/addcba] process > quantification (Quantificat... [  0%] 0 of 1\u001b[K\n",
      "[-        ] process > multiqc                        -\u001b[K\n",
      "\u001b[6A\n",
      "executor >  local (3)\u001b[K\n",
      "[09/3eec23] process > index                          [100%] 1 of 1 ✔\u001b[K\n",
      "[0e/728d7e] process > fastqc (FASTQC on gut)         [  0%] 0 of 1\u001b[K\n",
      "[23/addcba] process > quantification (Quantificat... [  0%] 0 of 1\u001b[K\n",
      "[-        ] process > multiqc                        -\u001b[K\n",
      "\u001b[6A\n",
      "executor >  local (3)\u001b[K\n",
      "[09/3eec23] process > index                          [100%] 1 of 1 ✔\u001b[K\n",
      "[0e/728d7e] process > fastqc (FASTQC on gut)         [  0%] 0 of 1\u001b[K\n",
      "[23/addcba] process > quantification (Quantificat... [100%] 1 of 1 ✔\u001b[K\n",
      "[-        ] process > multiqc                        -\u001b[K\n",
      "\u001b[6A\n",
      "executor >  local (4)\u001b[K\n",
      "[09/3eec23] process > index                          [100%] 1 of 1 ✔\u001b[K\n",
      "[0e/728d7e] process > fastqc (FASTQC on gut)         [100%] 1 of 1 ✔\u001b[K\n",
      "[23/addcba] process > quantification (Quantificat... [100%] 1 of 1 ✔\u001b[K\n",
      "[bf/c26a02] process > multiqc (MultiQC)              [  0%] 0 of 1\u001b[K\n",
      "\u001b[6A\n",
      "executor >  local (4)\u001b[K\n",
      "[09/3eec23] process > index                          [100%] 1 of 1 ✔\u001b[K\n",
      "[0e/728d7e] process > fastqc (FASTQC on gut)         [100%] 1 of 1 ✔\u001b[K\n",
      "[23/addcba] process > quantification (Quantificat... [100%] 1 of 1 ✔\u001b[K\n",
      "[bf/c26a02] process > multiqc (MultiQC)              [  0%] 0 of 1\u001b[K\n",
      "\n",
      "Done! Open the following report in your browser --> results/multiqc/multiqc_report.html\n",
      "\n",
      "\u001b[6A\n",
      "executor >  local (4)\u001b[K\n",
      "[09/3eec23] process > index                          [100%] 1 of 1 ✔\u001b[K\n",
      "[0e/728d7e] process > fastqc (FASTQC on gut)         [100%] 1 of 1 ✔\u001b[K\n",
      "[23/addcba] process > quantification (Quantificat... [100%] 1 of 1 ✔\u001b[K\n",
      "[bf/c26a02] process > multiqc (MultiQC)              [100%] 1 of 1 ✔\u001b[K\n",
      "\n"
     ]
    },
    {
     "ename": "",
     "evalue": "1",
     "output_type": "error",
     "traceback": []
    }
   ],
   "source": [
    "nextflow run main.nf"
   ]
  }
 ],
 "metadata": {
  "kernelspec": {
   "display_name": "Bash",
   "language": "bash",
   "name": "bash"
  },
  "language_info": {
   "codemirror_mode": "shell",
   "file_extension": ".sh",
   "mimetype": "text/x-sh",
   "name": "bash"
  }
 },
 "nbformat": 4,
 "nbformat_minor": 5
}
