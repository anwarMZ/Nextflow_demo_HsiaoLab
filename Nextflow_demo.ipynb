{
 "cells": [
  {
   "cell_type": "markdown",
   "id": "d18dfbcc-0e0c-4e8c-8a8b-e98111f55b31",
   "metadata": {},
   "source": [
    "# Nextflow Demo\n",
    "## Author: Zohaib Anwar\n",
    "## Date: April 29, 2021"
   ]
  },
  {
   "cell_type": "markdown",
   "id": "fd731c33-8bde-4722-8a9e-0c134a054593",
   "metadata": {},
   "source": [
    "## Introduction\n",
    "\n",
    "[Link to Nextflow -](https://www.nextflow.io/index.html)"
   ]
  },
  {
   "cell_type": "code",
   "execution_count": 1,
   "id": "3e445cf5-ed90-4f35-b6ba-a6ff52c511f8",
   "metadata": {},
   "outputs": [
    {
     "name": "stdout",
     "output_type": "stream",
     "text": [
      "openjdk version \"11.0.9.1\" 2020-11-04 LTS\n",
      "OpenJDK Runtime Environment Zulu11.43+55-CA (build 11.0.9.1+1-LTS)\n",
      "OpenJDK 64-Bit Server VM Zulu11.43+55-CA (build 11.0.9.1+1-LTS, mixed mode)\n"
     ]
    }
   ],
   "source": [
    "# Prerequisites - Java 8 or later\n",
    "java -version"
   ]
  },
  {
   "cell_type": "markdown",
   "id": "4f9acfca-b6bc-48f7-9c7c-b135f70d9f16",
   "metadata": {},
   "source": [
    "## If Java version in your system is less than 8, please use this [link](https://java.com/en/download/help/download_options.html) to install newer version. "
   ]
  },
  {
   "cell_type": "code",
   "execution_count": 2,
   "id": "d42250fb-6de9-4739-9936-5085e89e1e1f",
   "metadata": {},
   "outputs": [],
   "source": [
    "# Installation\n",
    "# curl -s https://get.nextflow.io | bash"
   ]
  },
  {
   "cell_type": "code",
   "execution_count": 4,
   "id": "37fea81c-d213-4bb6-9c24-50fb81cf7c34",
   "metadata": {},
   "outputs": [
    {
     "name": "stdout",
     "output_type": "stream",
     "text": [
      "nextflow version 20.10.0.5430\n"
     ]
    }
   ],
   "source": [
    "nextflow -v"
   ]
  },
  {
   "cell_type": "code",
   "execution_count": 6,
   "id": "d58abd96-a3c9-4645-a524-c9d77c9635fc",
   "metadata": {},
   "outputs": [
    {
     "name": "stdout",
     "output_type": "stream",
     "text": [
      "N E X T F L O W  ~  version 20.10.0\n",
      "Pulling nextflow-io/hello ...\n",
      "downloaded from https://github.com/nextflow-io/hello.git\n",
      "Launching `nextflow-io/hello` [modest_cajal] - revision: e6d9427e5b [master]\n",
      "[-        ] process > sayHello [  0%] 0 of 4\u001b[K\n",
      "\u001b[2A\n",
      "executor >  local (4)\u001b[K\n",
      "[96/990b66] process > sayHello (3) [100%] 4 of 4 ✔\u001b[K\n",
      "Ciao world!\u001b[K\n",
      "\u001b[K\n",
      "Bonjour world!\u001b[K\n",
      "\u001b[K\n",
      "Hola world!\u001b[K\n",
      "\u001b[K\n",
      "Hello world!\u001b[K\n",
      "\u001b[K\n",
      "\n"
     ]
    },
    {
     "ename": "",
     "evalue": "1",
     "output_type": "error",
     "traceback": []
    }
   ],
   "source": [
    "nextflow run hello"
   ]
  },
  {
   "cell_type": "markdown",
   "id": "b02be277-1ce6-4a69-81fa-15ce1dd66d61",
   "metadata": {},
   "source": [
    "During this tutorial we will implement a proof of concept of a RNA-Seq pipeline which:\n",
    "\n",
    "* Indexes a trascriptome file.\n",
    "* Performs quality controls\n",
    "* Performs quantification.\n",
    "* Create a MultiqQC report."
   ]
  },
  {
   "cell_type": "code",
   "execution_count": 12,
   "id": "f2d175f4-43fc-4a69-b2f0-ddc17501060b",
   "metadata": {},
   "outputs": [
    {
     "name": "stdout",
     "output_type": "stream",
     "text": [
      "N E X T F L O W  ~  version 20.10.0\n",
      "Launching `script1.nf` [silly_meucci] - revision: 7fa0ebaded\n",
      "reads: /Users/au572806/Downloads/Nextflow_demo_HsiaoLab/data/ggal/*_{1,2}.fq\n",
      "transcriptome: /Users/au572806/Downloads/Nextflow_demo_HsiaoLab/data/ggal/transcriptome.fa\n",
      "multiqc: /Users/au572806/Downloads/Nextflow_demo_HsiaoLab/multiqc\n"
     ]
    }
   ],
   "source": [
    "nextflow run script1.nf"
   ]
  },
  {
   "cell_type": "code",
   "execution_count": 2,
   "id": "21cb0d6a-08b4-485f-b62e-261d646c1d23",
   "metadata": {},
   "outputs": [
    {
     "name": "stdout",
     "output_type": "stream",
     "text": [
      "nextflow run script1_ex1.nf\n",
      "N E X T F L O W  ~  version 20.10.0\n",
      "Launching `script1_ex1.nf` [stupefied_bhaskara] - revision: 82b5357e7e\n",
      "reads: /Users/au572806/Downloads/Nextflow_demo_HsiaoLab/data/ggal/*_{1,2}.fq\n",
      "transcriptome: /Users/au572806/Downloads/Nextflow_demo_HsiaoLab/data/ggal/transcriptome.fa\n",
      "multiqc: /Users/au572806/Downloads/Nextflow_demo_HsiaoLab/multiqc\n",
      "outdir: /Users/au572806/Downloads/Nextflow_demo_HsiaoLab/results\n"
     ]
    },
    {
     "ename": "",
     "evalue": "1",
     "output_type": "error",
     "traceback": []
    }
   ],
   "source": [
    "nextflow run script1_ex1.nf"
   ]
  },
  {
   "cell_type": "code",
   "execution_count": 1,
   "id": "016aa22f-e048-44a2-b29f-3dee26e86fad",
   "metadata": {},
   "outputs": [
    {
     "name": "stdout",
     "output_type": "stream",
     "text": [
      "N E X T F L O W  ~  version 20.10.0\n",
      "Launching `script2.nf` [small_cuvier] - revision: b045a063b7\n",
      "R N A S E Q - N F   P I P E L I N E    \n",
      "===================================\n",
      "transcriptome: /Users/au572806/Downloads/Nextflow_demo_HsiaoLab/data/transcriptome.fa\n",
      "reads        : /Users/au572806/Downloads/Nextflow_demo_HsiaoLab/data/*_{1,2}.fq\n",
      "outdir       : /Users/au572806/Downloads/Nextflow_demo_HsiaoLab/results\n",
      "\n",
      "[-        ] process > index [  0%] 0 of 1\u001b[K\n",
      "\u001b[2A\n",
      "executor >  local (1)\u001b[K\n",
      "[b0/843f9b] process > index [  0%] 0 of 1\u001b[K\n",
      "\u001b[3A\n",
      "executor >  local (1)\u001b[K\n",
      "[b0/843f9b] process > index [100%] 1 of 1 ✔\u001b[K\n",
      "\n"
     ]
    },
    {
     "ename": "",
     "evalue": "1",
     "output_type": "error",
     "traceback": []
    }
   ],
   "source": [
    "nextflow run script2.nf"
   ]
  },
  {
   "cell_type": "code",
   "execution_count": 2,
   "id": "77f32efd-f3ac-458b-aad7-3021437212af",
   "metadata": {},
   "outputs": [
    {
     "name": "stdout",
     "output_type": "stream",
     "text": [
      "nextflow run script3.nf\n",
      "N E X T F L O W  ~  version 20.10.0\n",
      "Launching `script3.nf` [festering_lamport] - revision: ef3aeca3ca\n",
      "R N A S E Q - N F   P I P E L I N E    \n",
      "===================================\n",
      "transcriptome: /Users/au572806/Downloads/Nextflow_demo_HsiaoLab/data/transcriptome.fa\n",
      "reads        : /Users/au572806/Downloads/Nextflow_demo_HsiaoLab/data/gut_{1,2}.fq\n",
      "outdir       : results\n",
      "\n"
     ]
    },
    {
     "ename": "",
     "evalue": "1",
     "output_type": "error",
     "traceback": []
    }
   ],
   "source": [
    "nextflow run script3.nf"
   ]
  },
  {
   "cell_type": "code",
   "execution_count": null,
   "id": "1c990c55-607a-44df-bc3c-77e3948b4219",
   "metadata": {},
   "outputs": [],
   "source": []
  },
  {
   "cell_type": "code",
   "execution_count": null,
   "id": "7cb96814-bb65-48a6-b722-5aee34aa317e",
   "metadata": {},
   "outputs": [],
   "source": []
  },
  {
   "cell_type": "code",
   "execution_count": null,
   "id": "ccbccc4e-c729-47c1-9b85-782dcef5f9c0",
   "metadata": {},
   "outputs": [],
   "source": []
  },
  {
   "cell_type": "code",
   "execution_count": null,
   "id": "62a98536-f1bc-4411-bdcd-37e422bcbd3c",
   "metadata": {},
   "outputs": [],
   "source": []
  },
  {
   "cell_type": "code",
   "execution_count": null,
   "id": "fd43f2e8-14e0-434c-b5df-24ae7e826971",
   "metadata": {},
   "outputs": [],
   "source": []
  }
 ],
 "metadata": {
  "kernelspec": {
   "display_name": "Bash",
   "language": "bash",
   "name": "bash"
  },
  "language_info": {
   "codemirror_mode": "shell",
   "file_extension": ".sh",
   "mimetype": "text/x-sh",
   "name": "bash"
  }
 },
 "nbformat": 4,
 "nbformat_minor": 5
}
